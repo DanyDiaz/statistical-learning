{
 "cells": [
  {
   "cell_type": "markdown",
   "id": "outstanding-scenario",
   "metadata": {},
   "source": [
    "# Práctica 1: Gradient descent con tensor flow\n",
    "\n",
    "**Curso:** Statistical Learning\n",
    "\n",
    "**Catedrático:** Ing. Luis Leal\n",
    "\n",
    "**Estudiante:** Dany Rafael Díaz Lux (21000864)\n",
    "\n",
    "**Instrucciones:** La tarea práctica consiste en usar el mismo dataset del proyecto del curso pasado y e implementar gradient descent aplicado a regresión con este. (usando la variable con mayor correlación elegida en el proyecto en anterior) El entrenamiento con gradient descent debe usar tensorflow y usar tensorboard para monitorear que el error disminuya conforme avanzan las iteraciones \"en vivo\".\n",
    "\n",
    "Utilizar tensorboard:\n",
    "- Agregar el grafo del modelo.\n",
    "- Usar operaciones con nombre y usar name_spaces para mejorar el orden.\n",
    "- Agregar un summary.scalar para monitorear el MSE.\n",
    "- Aplicar reutilización de código: por ejemplo usar programación orientada a objetos para crear el modelo y/o definir el entrenamiento dentro de funciones de python.\n",
    "- Utilizar las funciones reutilizables de entrenamiento para ejecutar al menos 10 experimentos (variable numero de iteraciones, diferente learning rate y diferente tamaño de mini-batch)\n",
    "- definir un string de configuración para cada experimento.\n",
    "- crear un directorio para cada experimento basado en el string de configuración.\n",
    "- utilizar un enfoque investigación científica: antes del experimento formular una hipótesis del comportamiento experado, ejecutar el experimento y utilizar los resultados de tensorboard para conculir.\n",
    "- basado en los resultados experimentales obtenidos con tensorboard crear una conclusión general y elegir el mejor experimento.\n",
    "- agregar el contenido de tensorboard al notebook(pueden ser screenshots=\n",
    "- subir el notebook a github y agregar al GES el link\n",
    "- no utilizar tf.train.GradientDescentOptimizer ni tf.losses"
   ]
  },
  {
   "cell_type": "code",
   "execution_count": 1,
   "id": "banner-market",
   "metadata": {},
   "outputs": [
    {
     "name": "stdout",
     "output_type": "stream",
     "text": [
      "WARNING:tensorflow:From C:\\Users\\Dany\\anaconda3\\envs\\py_galileo_2021\\lib\\site-packages\\tensorflow\\python\\compat\\v2_compat.py:96: disable_resource_variables (from tensorflow.python.ops.variable_scope) is deprecated and will be removed in a future version.\n",
      "Instructions for updating:\n",
      "non-resource variables are not supported in the long term\n",
      "Enabled compatitility to tf1.x\n"
     ]
    }
   ],
   "source": [
    "# Import required libraries and enable compatibility with tensor flow 1\n",
    "import tensorflow as tf\n",
    "import numpy as np \n",
    "\n",
    "if tf.__version__.startswith(\"2.\"):\n",
    "  import tensorflow.compat.v1 as tf\n",
    "  tf.compat.v1.disable_v2_behavior()\n",
    "  tf.compat.v1.disable_eager_execution()\n",
    "  print(\"Enabled compatitility to tf1.x\")"
   ]
  },
  {
   "cell_type": "code",
   "execution_count": 2,
   "id": "progressive-editing",
   "metadata": {},
   "outputs": [],
   "source": [
    "# Cargar matriz de datos\n",
    "datosCasas = np.load('proyecto_training_data.npy')\n",
    "\n",
    "# Sólo se realizará entrenamiento con gradient descente, por lo que se usará toda la información como entrenamiento\n",
    "porcentajeEntrenamiento = 1\n",
    "limiteEntrenamiento = int(datosCasas.shape[0] * porcentajeEntrenamiento)\n",
    "datosEntrenamiento = datosCasas[:limiteEntrenamiento,]\n"
   ]
  },
  {
   "cell_type": "markdown",
   "id": "clear-european",
   "metadata": {},
   "source": [
    "### Elección de variable con más potencial predictivo\n",
    "La variable con mayor potencial predictivo (que tiene mayor coeficiente de correlación) es:\n",
    "\n",
    "* **Calidad general de casa**: Número de 1 a 10 que indica la calidad final de una casa. (Coeficiente de correlación: 0.794)"
   ]
  },
  {
   "cell_type": "markdown",
   "id": "understood-reform",
   "metadata": {},
   "source": []
  }
 ],
 "metadata": {
  "kernelspec": {
   "display_name": "Python 3",
   "language": "python",
   "name": "python3"
  },
  "language_info": {
   "codemirror_mode": {
    "name": "ipython",
    "version": 3
   },
   "file_extension": ".py",
   "mimetype": "text/x-python",
   "name": "python",
   "nbconvert_exporter": "python",
   "pygments_lexer": "ipython3",
   "version": "3.8.5"
  }
 },
 "nbformat": 4,
 "nbformat_minor": 5
}
