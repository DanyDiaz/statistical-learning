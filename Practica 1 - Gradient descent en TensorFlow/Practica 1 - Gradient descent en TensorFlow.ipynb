{
 "cells": [
  {
   "cell_type": "markdown",
   "id": "macro-eugene",
   "metadata": {},
   "source": [
    "# Práctica 1: Gradient descent con tensor flow\n",
    "\n",
    "**Curso:** Statistical Learning\n",
    "\n",
    "**Catedrático:** Ing. Luis Leal\n",
    "\n",
    "**Estudiante:** Dany Rafael Díaz Lux (21000864)\n",
    "\n",
    "**Instrucciones:** La tarea práctica consiste en usar el mismo dataset del proyecto del curso pasado y e implementar gradient descent aplicado a regresión con este. (usando la variable con mayor correlación elegida en el proyecto en anterior) El entrenamiento con gradient descent debe usar tensorflow y usar tensorboard para monitorear que el error disminuya conforme avanzan las iteraciones \"en vivo\".\n",
    "\n",
    "Utilizar tensorboard:\n",
    "- Agregar el grafo del modelo.\n",
    "- Usar operaciones con nombre y usar name_spaces para mejorar el orden.\n",
    "- Agregar un summary.scalar para monitorear el MSE.\n",
    "- Aplicar reutilización de código: por ejemplo usar programación orientada a objetos para crear el modelo y/o definir el entrenamiento dentro de funciones de python.\n",
    "- Utilizar las funciones reutilizables de entrenamiento para ejecutar al menos 10 experimentos (variable numero de iteraciones, diferente learning rate y diferente tamaño de mini-batch)\n",
    "- definir un string de configuración para cada experimento.\n",
    "- crear un directorio para cada experimento basado en el string de configuración.\n",
    "- utilizar un enfoque investigación científica: antes del experimento formular una hipótesis del comportamiento esperado, ejecutar el experimento y utilizar los resultados de tensorboard para conculir.\n",
    "- basado en los resultados experimentales obtenidos con tensorboard crear una conclusión general y elegir el mejor experimento.\n",
    "- agregar el contenido de tensorboard al notebook(pueden ser screenshots=\n",
    "- subir el notebook a github y agregar al GES el link\n",
    "- no utilizar tf.train.GradientDescentOptimizer ni tf.losses"
   ]
  },
  {
   "cell_type": "code",
   "execution_count": 188,
   "id": "compressed-earth",
   "metadata": {},
   "outputs": [
    {
     "name": "stdout",
     "output_type": "stream",
     "text": [
      "Enabled compatitility to tf1.x\n"
     ]
    }
   ],
   "source": [
    "# Import required libraries and enable compatibility with tensor flow 1\n",
    "import tensorflow as tf\n",
    "import numpy as np \n",
    "import pandas as pd\n",
    "import matplotlib.pylab as plt\n",
    "import datetime as dt\n",
    "\n",
    "if tf.__version__.startswith(\"2.\"):\n",
    "  import tensorflow.compat.v1 as tf\n",
    "  tf.compat.v1.disable_v2_behavior()\n",
    "  tf.compat.v1.disable_eager_execution()\n",
    "  print(\"Enabled compatitility to tf1.x\")"
   ]
  },
  {
   "cell_type": "code",
   "execution_count": 189,
   "id": "editorial-namibia",
   "metadata": {},
   "outputs": [],
   "source": [
    "# Cargar matriz de datos\n",
    "datosCasas = np.load('proyecto_training_data.npy')\n",
    "\n",
    "# Sólo se realizará entrenamiento con gradient descente, por lo que se usará toda la información como entrenamiento\n",
    "porcentajeEntrenamiento = 1\n",
    "limiteEntrenamiento = int(datosCasas.shape[0] * porcentajeEntrenamiento)\n",
    "datosEntrenamiento = datosCasas[:limiteEntrenamiento,]\n"
   ]
  },
  {
   "cell_type": "markdown",
   "id": "bulgarian-mistake",
   "metadata": {},
   "source": [
    "### Elección de variable con más potencial predictivo\n",
    "La variable con mayor potencial predictivo (que tiene mayor coeficiente de correlación) es:\n",
    "\n",
    "* **Calidad general de casa**: Número de 1 a 10 que indica la calidad final de una casa. (Coeficiente de correlación: 0.794)"
   ]
  },
  {
   "cell_type": "code",
   "execution_count": 6,
   "id": "administrative-blank",
   "metadata": {},
   "outputs": [
    {
     "data": {
      "image/png": "[encoded data removed]",
      "text/plain": [
       "<Figure size 720x432 with 1 Axes>"
      ]
     },
     "metadata": {
      "needs_background": "light"
     },
     "output_type": "display_data"
    },
    {
     "name": "stdout",
     "output_type": "stream",
     "text": [
      "\n"
     ]
    }
   ],
   "source": [
    "# Vector con la variable elegida\n",
    "nombresVariables = np.array(['Precio de venta', 'Calidad General'])\n",
    "\n",
    "# Realizar gráfica de dispersión con la variable de precio de venta como variable dependiente.\n",
    "# Mostrar coeficiente de correlación como parte del título de la gráfica\n",
    "for iVar in range(1, len(nombresVariables)):\n",
    "    varVector = datosEntrenamiento[:,iVar]\n",
    "    varDep = datosEntrenamiento[:,0]\n",
    "    df = pd.DataFrame(datosEntrenamiento[:,[0,iVar]])\n",
    "    coef = round(df.corr()[0][1],4)\n",
    "    fig = plt.figure(figsize=(10,6))\n",
    "    ax = fig.add_subplot(1,1,1)\n",
    "    ax.set_title(nombresVariables[iVar] + ' vs ' + nombresVariables[0] + '  (coeficiente de correlación: ' + str(coef) + ')')\n",
    "    ax.scatter(varVector, varDep, marker='p')\n",
    "    plt.show()\n",
    "    print('')\n"
   ]
  },
  {
   "cell_type": "code",
   "execution_count": 243,
   "id": "human-worry",
   "metadata": {},
   "outputs": [],
   "source": [
    "# Utilizando código compartido en Clase para crear modelo con TensorFlow\n",
    "class ModeloLineal:\n",
    "    def __init__(self):\n",
    "        self.vectorMb = tf.Variable([[0.0, 0.0]], name=\"VectorMB\")\n",
    "        \n",
    "    def __call__(self,matrizX):\n",
    "        return tf.matmul(self.vectorMb, matrizX)\n",
    "    \n",
    "    def actualizar(self,matrizX,y,learning_rate):\n",
    "        with tf.name_scope(\"Prediccion\"):\n",
    "            prediccion = self(matrizX)\n",
    "        \n",
    "        with tf.name_scope(\"Error\"):\n",
    "            error = (1.0/2.0) * tf.reduce_mean(tf.math.square(y - prediccion))\n",
    "            error_summary = tf.summary.scalar(\"Error\", error)\n",
    "        \n",
    "        with tf.name_scope(\"Gradiente\"):\n",
    "            gradiente = tf.gradients(error, self.vectorMb)\n",
    "        \n",
    "        with tf.name_scope(\"Actualizar_M_B\"):\n",
    "            multGradLr = tf.math.multiply(gradiente, learning_rate)\n",
    "            restaVectorMb = tf.math.subtract(self.vectorMb, multGradLr)\n",
    "            actualizacion_Mb = tf.assign(self.vectorMb, restaVectorMb[0])\n",
    "\n",
    "        return error_summary, error, actualizacion_Mb"
   ]
  },
  {
   "cell_type": "code",
   "execution_count": 253,
   "id": "solved-wealth",
   "metadata": {},
   "outputs": [],
   "source": [
    "def modeloLinealMiniBatch(x, y, epochs, learningRate, batchSize):\n",
    "    cantidadDatos = x.shape[1]\n",
    "    totalIteraciones = int(cantidadDatos/batchSize)\n",
    "    g = tf.Graph()\n",
    "    with g.as_default():\n",
    "        modelo = ModeloLineal()\n",
    "        tensorX = tf.placeholder(tf.float32,[x.shape[0], None],\"tensorX\")\n",
    "        tensorY = tf.placeholder(tf.float32,[None],\"tensorY\")\n",
    "        calcularPrediccion = modelo(tensorX) #Esto creará la definición para la operación y = mx + b\n",
    "        actualizarParametros = modelo.actualizar(tensorX, tensorY, learningRate) # Definición para actualizar parámetros\n",
    "        directorioModelo = './summaries/' + dt.datetime.now().strftime(\"%Y%m%d-%H%M%S\") + '_RegresionLinealMiniBatchGradientDescent' \\\n",
    "            + '_epochs=' + str(epochs) + '_lr=' + str(learningRate) + '_batchSize=' + str(batchSize)\n",
    "\n",
    "        with tf.train.MonitoredSession() as session:\n",
    "            writer = tf.summary.FileWriter(directorioModelo, g)\n",
    "            for epoch in range(epochs):\n",
    "                for batch in range(totalIteraciones):\n",
    "                    inicioBatch = batch * batchSize\n",
    "                    finBatch = inicioBatch + batchSize - 1\n",
    "                    if (cantidadDatos - finBatch) < batchSize:\n",
    "                        finBatch = cantidadDatos - 1\n",
    "                    miniBatchX =  np.array(x[:,inicioBatch:finBatch])\n",
    "                    miniBatchY = np.array(y[inicioBatch:finBatch])\n",
    "                    # Realizar la actualización de parámetros por mini batch\n",
    "                    feed_dict = {tensorX: miniBatchX, tensorY: miniBatchY}\n",
    "                    # Si no es la última iteración sólo correr actualización de parámetros\n",
    "                    if batch != totalIteraciones - 1:\n",
    "                        session.run(actualizarParametros,feed_dict=feed_dict)\n",
    "                    # De lo contrario obtener error final de epoch y vectorMB\n",
    "                    else:\n",
    "                        errorSummary, error, vectorMb = session.run(actualizarParametros,feed_dict=feed_dict)\n",
    "                        \n",
    "                # Añadir error a summary de tensorboard\n",
    "                writer.add_summary(errorSummary,epoch)\n",
    "                \n",
    "                # Calcular predicción con parámetros actualizados (después de todos los mini batchs)\n",
    "                feed_dict = {tensorX: x, tensorY: y}\n",
    "                predicciones = session.run(calcularPrediccion,feed_dict=feed_dict)\n",
    "\n",
    "            vectorMb = session.run(modelo.vectorMb,feed_dict=feed_dict)[0]\n",
    "            writer.close()\n",
    "    \n",
    "    print('Modelo MiniBatch. Epochs: ', epochs, ', learning rate: ', learningRate, ', Batch size: ', batchSize, \\\n",
    "          ', Error final: ', error/1000000, ' millones ; y = ' + str(vectorMb[0]) + 'x + '+ str(vectorMb[1]))"
   ]
  },
  {
   "cell_type": "markdown",
   "id": "documentary-differential",
   "metadata": {},
   "source": [
    "### Diagrama del Grafo generado\n",
    "\n",
    "A continuación se muestra el grafo generado por TensorBoard del modelo lineal por mini batch gradient descent: \n",
    "\n",
    "![Grafo generado por TensorBoard](https://github.com/DanyDiaz/statistical-learning/blob/master/Practica%201%20-%20Gradient%20descent%20en%20TensorFlow/DiagramaGrafo_ModeloLinealMiniBatchGradientDescent.png)\n"
   ]
  },
  {
   "cell_type": "markdown",
   "id": "romantic-dylan",
   "metadata": {},
   "source": [
    "### Hipótesis\n",
    "La variación de los hiperparámetros: epochs, learning rate y batch size producirá diferentes magnitudes de errores finales; se verá que combinación de los mismos produce una mejor reducción. Se medirán 3 opciones de cada uno (valor pequeño, normal, grande) para observar algun indicio de qué posible valor sería mejor colocar. "
   ]
  },
  {
   "cell_type": "code",
   "execution_count": 254,
   "id": "instrumental-colors",
   "metadata": {},
   "outputs": [
    {
     "name": "stdout",
     "output_type": "stream",
     "text": [
      "INFO:tensorflow:Graph was finalized.\n",
      "INFO:tensorflow:Running local_init_op.\n",
      "INFO:tensorflow:Done running local_init_op.\n",
      "Modelo MiniBatch. Epochs:  100 , learning rate:  0.001 , Batch size:  4 , Error final:  552.752832  millones ; y = 43029.14x + -79945.39\n",
      "INFO:tensorflow:Graph was finalized.\n",
      "INFO:tensorflow:Running local_init_op.\n",
      "INFO:tensorflow:Done running local_init_op.\n",
      "Modelo MiniBatch. Epochs:  100 , learning rate:  0.001 , Batch size:  64 , Error final:  1128.39232  millones ; y = 31308.98x + -5547.983\n",
      "INFO:tensorflow:Graph was finalized.\n",
      "INFO:tensorflow:Running local_init_op.\n",
      "INFO:tensorflow:Done running local_init_op.\n",
      "Modelo MiniBatch. Epochs:  100 , learning rate:  0.001 , Batch size:  512 , Error final:  1478.31616  millones ; y = 29846.908x + 3668.9526\n",
      "INFO:tensorflow:Graph was finalized.\n",
      "INFO:tensorflow:Running local_init_op.\n",
      "INFO:tensorflow:Done running local_init_op.\n",
      "Modelo MiniBatch. Epochs:  500 , learning rate:  0.001 , Batch size:  4 , Error final:  546.407744  millones ; y = 45745.098x + -97104.586\n",
      "INFO:tensorflow:Graph was finalized.\n",
      "INFO:tensorflow:Running local_init_op.\n",
      "INFO:tensorflow:Done running local_init_op.\n",
      "Modelo MiniBatch. Epochs:  500 , learning rate:  0.001 , Batch size:  64 , Error final:  1030.38688  millones ; y = 36229.77x + -37028.906\n",
      "INFO:tensorflow:Graph was finalized.\n",
      "INFO:tensorflow:Running local_init_op.\n",
      "INFO:tensorflow:Done running local_init_op.\n",
      "Modelo MiniBatch. Epochs:  500 , learning rate:  0.001 , Batch size:  512 , Error final:  1460.494848  millones ; y = 30442.275x + -93.654015\n",
      "INFO:tensorflow:Graph was finalized.\n",
      "INFO:tensorflow:Running local_init_op.\n",
      "INFO:tensorflow:Done running local_init_op.\n",
      "Modelo MiniBatch. Epochs:  1000 , learning rate:  0.001 , Batch size:  4 , Error final:  546.407744  millones ; y = 45747.27x + -97118.375\n",
      "INFO:tensorflow:Graph was finalized.\n",
      "INFO:tensorflow:Running local_init_op.\n",
      "INFO:tensorflow:Done running local_init_op.\n",
      "Modelo MiniBatch. Epochs:  1000 , learning rate:  0.001 , Batch size:  64 , Error final:  986.176256  millones ; y = 40066.656x + -61575.516\n",
      "INFO:tensorflow:Graph was finalized.\n",
      "INFO:tensorflow:Running local_init_op.\n",
      "INFO:tensorflow:Done running local_init_op.\n",
      "Modelo MiniBatch. Epochs:  1000 , learning rate:  0.001 , Batch size:  512 , Error final:  1440.06784  millones ; y = 31145.816x + -4603.413\n",
      "INFO:tensorflow:Graph was finalized.\n",
      "INFO:tensorflow:Running local_init_op.\n",
      "INFO:tensorflow:Done running local_init_op.\n",
      "Modelo MiniBatch. Epochs:  100 , learning rate:  0.02 , Batch size:  4 , Error final:  1483.384448  millones ; y = 49341.047x + -101824.66\n",
      "INFO:tensorflow:Graph was finalized.\n",
      "INFO:tensorflow:Running local_init_op.\n",
      "INFO:tensorflow:Done running local_init_op.\n",
      "Modelo MiniBatch. Epochs:  100 , learning rate:  0.02 , Batch size:  64 , Error final:  992.1264  millones ; y = 43440.31x + -84552.7\n",
      "INFO:tensorflow:Graph was finalized.\n",
      "INFO:tensorflow:Running local_init_op.\n",
      "INFO:tensorflow:Done running local_init_op.\n",
      "Modelo MiniBatch. Epochs:  100 , learning rate:  0.02 , Batch size:  512 , Error final:  1405.004544  millones ; y = 32438.34x + -13028.202\n",
      "INFO:tensorflow:Graph was finalized.\n",
      "INFO:tensorflow:Running local_init_op.\n",
      "INFO:tensorflow:Done running local_init_op.\n",
      "Modelo MiniBatch. Epochs:  500 , learning rate:  0.02 , Batch size:  4 , Error final:  1483.384448  millones ; y = 49341.047x + -101824.66\n",
      "INFO:tensorflow:Graph was finalized.\n",
      "INFO:tensorflow:Running local_init_op.\n",
      "INFO:tensorflow:Done running local_init_op.\n",
      "Modelo MiniBatch. Epochs:  500 , learning rate:  0.02 , Batch size:  64 , Error final:  994.3696  millones ; y = 45349.727x + -96767.93\n",
      "INFO:tensorflow:Graph was finalized.\n",
      "INFO:tensorflow:Running local_init_op.\n",
      "INFO:tensorflow:Done running local_init_op.\n",
      "Modelo MiniBatch. Epochs:  500 , learning rate:  0.02 , Batch size:  512 , Error final:  1276.110464  millones ; y = 39479.637x + -58084.17\n",
      "INFO:tensorflow:Graph was finalized.\n",
      "INFO:tensorflow:Running local_init_op.\n",
      "INFO:tensorflow:Done running local_init_op.\n",
      "Modelo MiniBatch. Epochs:  1000 , learning rate:  0.02 , Batch size:  4 , Error final:  1483.384448  millones ; y = 49341.047x + -101824.66\n",
      "INFO:tensorflow:Graph was finalized.\n",
      "INFO:tensorflow:Running local_init_op.\n",
      "INFO:tensorflow:Done running local_init_op.\n",
      "Modelo MiniBatch. Epochs:  1000 , learning rate:  0.02 , Batch size:  64 , Error final:  994.370816  millones ; y = 45350.133x + -96770.53\n",
      "INFO:tensorflow:Graph was finalized.\n",
      "INFO:tensorflow:Running local_init_op.\n",
      "INFO:tensorflow:Done running local_init_op.\n",
      "Modelo MiniBatch. Epochs:  1000 , learning rate:  0.02 , Batch size:  512 , Error final:  1249.127936  millones ; y = 43298.47x + -82520.19\n",
      "INFO:tensorflow:Graph was finalized.\n",
      "INFO:tensorflow:Running local_init_op.\n",
      "INFO:tensorflow:Done running local_init_op.\n",
      "Modelo MiniBatch. Epochs:  100 , learning rate:  0.1 , Batch size:  4 , Error final:  nan  millones ; y = nanx + nan\n",
      "INFO:tensorflow:Graph was finalized.\n",
      "INFO:tensorflow:Running local_init_op.\n",
      "INFO:tensorflow:Done running local_init_op.\n",
      "Modelo MiniBatch. Epochs:  100 , learning rate:  0.1 , Batch size:  64 , Error final:  nan  millones ; y = nanx + nan\n",
      "INFO:tensorflow:Graph was finalized.\n",
      "INFO:tensorflow:Running local_init_op.\n",
      "INFO:tensorflow:Done running local_init_op.\n",
      "Modelo MiniBatch. Epochs:  100 , learning rate:  0.1 , Batch size:  512 , Error final:  nan  millones ; y = nanx + nan\n",
      "INFO:tensorflow:Graph was finalized.\n",
      "INFO:tensorflow:Running local_init_op.\n",
      "INFO:tensorflow:Done running local_init_op.\n",
      "Modelo MiniBatch. Epochs:  500 , learning rate:  0.1 , Batch size:  4 , Error final:  nan  millones ; y = nanx + nan\n",
      "INFO:tensorflow:Graph was finalized.\n",
      "INFO:tensorflow:Running local_init_op.\n",
      "INFO:tensorflow:Done running local_init_op.\n",
      "Modelo MiniBatch. Epochs:  500 , learning rate:  0.1 , Batch size:  64 , Error final:  nan  millones ; y = nanx + nan\n",
      "INFO:tensorflow:Graph was finalized.\n",
      "INFO:tensorflow:Running local_init_op.\n",
      "INFO:tensorflow:Done running local_init_op.\n",
      "Modelo MiniBatch. Epochs:  500 , learning rate:  0.1 , Batch size:  512 , Error final:  nan  millones ; y = nanx + nan\n",
      "INFO:tensorflow:Graph was finalized.\n",
      "INFO:tensorflow:Running local_init_op.\n",
      "INFO:tensorflow:Done running local_init_op.\n",
      "Modelo MiniBatch. Epochs:  1000 , learning rate:  0.1 , Batch size:  4 , Error final:  nan  millones ; y = nanx + nan\n",
      "INFO:tensorflow:Graph was finalized.\n",
      "INFO:tensorflow:Running local_init_op.\n",
      "INFO:tensorflow:Done running local_init_op.\n",
      "Modelo MiniBatch. Epochs:  1000 , learning rate:  0.1 , Batch size:  64 , Error final:  nan  millones ; y = nanx + nan\n",
      "INFO:tensorflow:Graph was finalized.\n",
      "INFO:tensorflow:Running local_init_op.\n",
      "INFO:tensorflow:Done running local_init_op.\n",
      "Modelo MiniBatch. Epochs:  1000 , learning rate:  0.1 , Batch size:  512 , Error final:  nan  millones ; y = nanx + nan\n"
     ]
    }
   ],
   "source": [
    "# Preparación de matriz X\n",
    "x_calidadGeneral = datosEntrenamiento[:,1]\n",
    "onesVector = np.ones_like(x_calidadGeneral)\n",
    "matrizX_CalidadGeneral = np.array([x_calidadGeneral, onesVector])\n",
    "# Vector Y\n",
    "y_precioCasa = datosEntrenamiento[:,0]\n",
    "# Variaciones de valores para learning rate\n",
    "learning_rates = [0.001, 0.02, 0.1]\n",
    "epochs = [100, 500, 1000]\n",
    "bSizes = [4, 64, 512]\n",
    "\n",
    "for lr in learning_rates:\n",
    "    for ep in epochs:\n",
    "        for bSize in bSizes:\n",
    "            modeloLinealMiniBatch(matrizX_CalidadGeneral, y_precioCasa, ep, lr, bSize)"
   ]
  },
  {
   "cell_type": "markdown",
   "id": "requested-nicaragua",
   "metadata": {},
   "source": [
    "### Gráficas brindadas por TensorBoard en estas primeras ejecuciones\n",
    "\n",
    "![Primeras gráficas de disminución de error](https://github.com/DanyDiaz/statistical-learning/blob/master/Practica%201%20-%20Gradient%20descent%20en%20TensorFlow/GraficaMSE.png)"
   ]
  },
  {
   "cell_type": "markdown",
   "id": "worldwide-beauty",
   "metadata": {},
   "source": [
    "### Primeras inferencias que se obtuvieron de las primeras corridas:\n",
    "\n",
    "* El número de epochs se dejará sólo en el mayor (1000) pues se en las gráficas dadas por TensorBoard, se puede ver que un número menor de epochs se puede ver en sus \"steps\" anteriores.\n",
    "* Se puede ver en los errores finales que el learning rate debe ser bajo o de lo contrario el error y parámetros se vuelven demasiado grandes.\n",
    "* Parece ser que un tamaño bajo de batch size ayuda a minimizar el error final.\n",
    "\n",
    "Se realizarán una ronda extra de experimentos para corroborar estas inferencias."
   ]
  },
  {
   "cell_type": "code",
   "execution_count": 255,
   "id": "buried-depth",
   "metadata": {},
   "outputs": [
    {
     "name": "stdout",
     "output_type": "stream",
     "text": [
      "INFO:tensorflow:Graph was finalized.\n",
      "INFO:tensorflow:Running local_init_op.\n",
      "INFO:tensorflow:Done running local_init_op.\n",
      "Modelo MiniBatch. Epochs:  1000 , learning rate:  0.001 , Batch size:  4 , Error final:  546.407744  millones ; y = 45747.27x + -97118.375\n",
      "INFO:tensorflow:Graph was finalized.\n",
      "INFO:tensorflow:Running local_init_op.\n",
      "INFO:tensorflow:Done running local_init_op.\n",
      "Modelo MiniBatch. Epochs:  1000 , learning rate:  0.001 , Batch size:  8 , Error final:  433.653728  millones ; y = 46085.113x + -99928.26\n",
      "INFO:tensorflow:Graph was finalized.\n",
      "INFO:tensorflow:Running local_init_op.\n",
      "INFO:tensorflow:Done running local_init_op.\n",
      "Modelo MiniBatch. Epochs:  1000 , learning rate:  0.001 , Batch size:  16 , Error final:  571.40256  millones ; y = 45455.246x + -96150.34\n",
      "INFO:tensorflow:Graph was finalized.\n",
      "INFO:tensorflow:Running local_init_op.\n",
      "INFO:tensorflow:Done running local_init_op.\n",
      "Modelo MiniBatch. Epochs:  1000 , learning rate:  0.005 , Batch size:  4 , Error final:  701.733568  millones ; y = 46180.938x + -98782.48\n",
      "INFO:tensorflow:Graph was finalized.\n",
      "INFO:tensorflow:Running local_init_op.\n",
      "INFO:tensorflow:Done running local_init_op.\n",
      "Modelo MiniBatch. Epochs:  1000 , learning rate:  0.005 , Batch size:  8 , Error final:  432.259904  millones ; y = 46305.223x + -100466.89\n",
      "INFO:tensorflow:Graph was finalized.\n",
      "INFO:tensorflow:Running local_init_op.\n",
      "INFO:tensorflow:Done running local_init_op.\n",
      "Modelo MiniBatch. Epochs:  1000 , learning rate:  0.005 , Batch size:  16 , Error final:  592.04192  millones ; y = 45557.816x + -97527.016\n",
      "INFO:tensorflow:Graph was finalized.\n",
      "INFO:tensorflow:Running local_init_op.\n",
      "INFO:tensorflow:Done running local_init_op.\n",
      "Modelo MiniBatch. Epochs:  1000 , learning rate:  0.01 , Batch size:  4 , Error final:  1089.145472  millones ; y = 46439.074x + -99452.18\n",
      "INFO:tensorflow:Graph was finalized.\n",
      "INFO:tensorflow:Running local_init_op.\n",
      "INFO:tensorflow:Done running local_init_op.\n",
      "Modelo MiniBatch. Epochs:  1000 , learning rate:  0.01 , Batch size:  8 , Error final:  454.613312  millones ; y = 46008.05x + -100853.03\n",
      "INFO:tensorflow:Graph was finalized.\n",
      "INFO:tensorflow:Running local_init_op.\n",
      "INFO:tensorflow:Done running local_init_op.\n",
      "Modelo MiniBatch. Epochs:  1000 , learning rate:  0.01 , Batch size:  16 , Error final:  653.24864  millones ; y = 45532.69x + -97652.97\n"
     ]
    }
   ],
   "source": [
    "# Variaciones de valores para learning rate\n",
    "learning_rates = [0.001, 0.005, 0.01]\n",
    "epochs = [1000]\n",
    "bSizes = [4, 8, 16]\n",
    "\n",
    "for lr in learning_rates:\n",
    "    for ep in epochs:\n",
    "        for bSize in bSizes:\n",
    "            modeloLinealMiniBatch(matrizX_CalidadGeneral, y_precioCasa, ep, lr, bSize)"
   ]
  },
  {
   "cell_type": "markdown",
   "id": "judicial-senator",
   "metadata": {},
   "source": [
    "### Pruebas finales\n",
    "Basado en la gráfica de abajo el tamaño del batch debe ser un valor cercano a 8 (se probará con los valores 8, 10 y 12) y que el learning rate debe ser mayor a 0.001 pero menor a 0.01 (se probarán con valores 0.003, 0.005, 0.007). También se tomará como límite de epochs 500 porque se ve que después de este valor ya no baja mucho el error.\n",
    "\n",
    "![Más gráficas de disminución de error](https://github.com/DanyDiaz/statistical-learning/blob/master/Practica%201%20-%20Gradient%20descent%20en%20TensorFlow/GraficaMSE_2.png)"
   ]
  },
  {
   "cell_type": "code",
   "execution_count": 256,
   "id": "removed-blues",
   "metadata": {},
   "outputs": [
    {
     "name": "stdout",
     "output_type": "stream",
     "text": [
      "INFO:tensorflow:Graph was finalized.\n",
      "INFO:tensorflow:Running local_init_op.\n",
      "INFO:tensorflow:Done running local_init_op.\n",
      "Modelo MiniBatch. Epochs:  500 , learning rate:  0.003 , Batch size:  8 , Error final:  432.657216  millones ; y = 46209.348x + -100195.52\n",
      "INFO:tensorflow:Graph was finalized.\n",
      "INFO:tensorflow:Running local_init_op.\n",
      "INFO:tensorflow:Done running local_init_op.\n",
      "Modelo MiniBatch. Epochs:  500 , learning rate:  0.003 , Batch size:  10 , Error final:  410.124352  millones ; y = 45184.28x + -93546.7\n",
      "INFO:tensorflow:Graph was finalized.\n",
      "INFO:tensorflow:Running local_init_op.\n",
      "INFO:tensorflow:Done running local_init_op.\n",
      "Modelo MiniBatch. Epochs:  500 , learning rate:  0.003 , Batch size:  12 , Error final:  596.391424  millones ; y = 45588.258x + -96202.15\n",
      "INFO:tensorflow:Graph was finalized.\n",
      "INFO:tensorflow:Running local_init_op.\n",
      "INFO:tensorflow:Done running local_init_op.\n",
      "Modelo MiniBatch. Epochs:  500 , learning rate:  0.005 , Batch size:  8 , Error final:  432.259904  millones ; y = 46305.223x + -100466.89\n",
      "INFO:tensorflow:Graph was finalized.\n",
      "INFO:tensorflow:Running local_init_op.\n",
      "INFO:tensorflow:Done running local_init_op.\n",
      "Modelo MiniBatch. Epochs:  500 , learning rate:  0.005 , Batch size:  10 , Error final:  411.877088  millones ; y = 45204.945x + -93506.4\n",
      "INFO:tensorflow:Graph was finalized.\n",
      "INFO:tensorflow:Running local_init_op.\n",
      "INFO:tensorflow:Done running local_init_op.\n",
      "Modelo MiniBatch. Epochs:  500 , learning rate:  0.005 , Batch size:  12 , Error final:  637.559296  millones ; y = 45772.4x + -96290.31\n",
      "INFO:tensorflow:Graph was finalized.\n",
      "INFO:tensorflow:Running local_init_op.\n",
      "INFO:tensorflow:Done running local_init_op.\n",
      "Modelo MiniBatch. Epochs:  500 , learning rate:  0.007 , Batch size:  8 , Error final:  436.169952  millones ; y = 46247.47x + -100686.8\n",
      "INFO:tensorflow:Graph was finalized.\n",
      "INFO:tensorflow:Running local_init_op.\n",
      "INFO:tensorflow:Done running local_init_op.\n",
      "Modelo MiniBatch. Epochs:  500 , learning rate:  0.007 , Batch size:  10 , Error final:  418.892992  millones ; y = 45131.19x + -93425.49\n",
      "INFO:tensorflow:Graph was finalized.\n",
      "INFO:tensorflow:Running local_init_op.\n",
      "INFO:tensorflow:Done running local_init_op.\n",
      "Modelo MiniBatch. Epochs:  500 , learning rate:  0.007 , Batch size:  12 , Error final:  687.158528  millones ; y = 45896.723x + -96417.164\n"
     ]
    }
   ],
   "source": [
    "# Variaciones de valores para learning rate\n",
    "learning_rates = [0.003, 0.005, 0.007]\n",
    "epochs = [500]\n",
    "bSizes = [8, 10, 12]\n",
    "\n",
    "for lr in learning_rates:\n",
    "    for ep in epochs:\n",
    "        for bSize in bSizes:\n",
    "            modeloLinealMiniBatch(matrizX_CalidadGeneral, y_precioCasa, ep, lr, bSize)"
   ]
  },
  {
   "cell_type": "markdown",
   "id": "appreciated-funds",
   "metadata": {},
   "source": [
    "### Conclusiones\n",
    "\n",
    "El mejor modelo encontrado es: _y = 45184.28x - 93546.7_ que tiene un costo de 410124352. Este modelo se alcanzó utilizando el algoritmo de mini-batch gradient descent con los hiper parámetros: número de epochs de 500, learning rate de 0.003 y batch size de 10.\n",
    "\n",
    "![Gráficas finales](https://github.com/DanyDiaz/statistical-learning/blob/master/Practica%201%20-%20Gradient%20descent%20en%20TensorFlow/GraficaMSE_3.png)"
   ]
  }
 ],
 "metadata": {
  "kernelspec": {
   "display_name": "Python 3",
   "language": "python",
   "name": "python3"
  },
  "language_info": {
   "codemirror_mode": {
    "name": "ipython",
    "version": 3
   },
   "file_extension": ".py",
   "mimetype": "text/x-python",
   "name": "python",
   "nbconvert_exporter": "python",
   "pygments_lexer": "ipython3",
   "version": "3.8.5"
  }
 },
 "nbformat": 4,
 "nbformat_minor": 5
}
