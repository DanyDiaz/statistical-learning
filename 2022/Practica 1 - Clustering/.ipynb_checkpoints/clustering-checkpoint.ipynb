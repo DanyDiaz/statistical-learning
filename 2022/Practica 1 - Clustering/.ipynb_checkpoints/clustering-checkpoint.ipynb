{
 "cells": [
  {
   "cell_type": "markdown",
   "metadata": {},
   "source": [
    "# Práctica 1 - Clustering"
   ]
  },
  {
   "cell_type": "markdown",
   "metadata": {},
   "source": [
    "## Cargar y escalar información"
   ]
  },
  {
   "cell_type": "code",
   "execution_count": 5,
   "metadata": {},
   "outputs": [],
   "source": [
    "# Importar librerías que utilizaremos\n",
    "from sklearn.preprocessing import StandardScaler\n",
    "import pandas as pd"
   ]
  },
  {
   "cell_type": "code",
   "execution_count": 20,
   "metadata": {},
   "outputs": [
    {
     "name": "stdout",
     "output_type": "stream",
     "text": [
      "[[ 0.61336991 -0.60120511]\n",
      " [ 0.207922    0.16881129]\n",
      " [-0.0623766  -0.90921166]\n",
      " [ 0.74851921  0.63082112]\n",
      " [-1.00842171  0.32281456]]\n"
     ]
    }
   ],
   "source": [
    "# Cargar información de estaturas\n",
    "estaturasDf = pd.read_excel('estaturas.xlsx', sheet_name='normales')\n",
    "# Estandarizar información\n",
    "estaturasScaler = StandardScaler()\n",
    "standarizedEstaturas = estaturasScaler.fit_transform(estaturasDf)\n",
    "# Mostrar primeros datos estandarizados\n",
    "print(standarizedEstaturas[0:5, :])"
   ]
  },
  {
   "cell_type": "markdown",
   "metadata": {},
   "source": [
    "## Hard clustering - K-means"
   ]
  },
  {
   "cell_type": "markdown",
   "metadata": {},
   "source": [
    "## Soft clustering - Gaussian Mixture Model (GMM)"
   ]
  }
 ],
 "metadata": {
  "kernelspec": {
   "display_name": "Python 3",
   "language": "python",
   "name": "python3"
  },
  "language_info": {
   "codemirror_mode": {
    "name": "ipython",
    "version": 3
   },
   "file_extension": ".py",
   "mimetype": "text/x-python",
   "name": "python",
   "nbconvert_exporter": "python",
   "pygments_lexer": "ipython3",
   "version": "3.8.5"
  }
 },
 "nbformat": 4,
 "nbformat_minor": 4
}
