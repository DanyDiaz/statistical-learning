{
 "cells": [
  {
   "cell_type": "markdown",
   "id": "attached-prior",
   "metadata": {},
   "source": [
    "# Proyecto Final - Ensemble Learning (Aprendizaje por ensamblado)\n",
    "## Parte 2 - Implementación y predicción\n",
    "\n",
    "**Curso:** Statistical Learning\n",
    "\n",
    "**Catedrático:** Ing. Luis Leal\n",
    "\n",
    "**Estudiante:** Dany Rafael Díaz Lux (21000864)\n",
    "\n",
    "**Objetivo:** Hacer clasificación binaria para determinar si una persona sobrevive o no del hundimiento del Titanic."
   ]
  },
  {
   "cell_type": "code",
   "execution_count": 22,
   "id": "precise-weather",
   "metadata": {},
   "outputs": [],
   "source": [
    "# Import required libraries\n",
    "#from sklearn.model_selection import train_test_split\n",
    "from sklearn.tree import DecisionTreeClassifier\n",
    "#import datetime as dt\n",
    "import joblib\n",
    "#import matplotlib.pylab as plt\n",
    "import numpy as np \n",
    "#import os.path\n",
    "import pandas as pd\n",
    "import sklearn.metrics as mts\n",
    "#import tensorflow as tf\n",
    "#print('Tensor flow version: ' + tf.__version__)"
   ]
  },
  {
   "cell_type": "code",
   "execution_count": 56,
   "id": "ignored-victory",
   "metadata": {},
   "outputs": [],
   "source": [
    "# Informacion de modelos\n",
    "directorioModelos = 'modelos/'\n",
    "extensionModelos = '.modelo'\n",
    "nombreModeloArbolDecision = 'ArbolDecision_criterio=gini_profundidadMaxima=4'\n",
    "nombreModeloSVM = 'SVM_regularizacionC=1.0_kernel=poly_grado=3'\n",
    "nombreParametrosRegresionLogistica = 'RegresionLogisticaMiniBatchGradientDescent_epochs=500_lr=0.01_batchSize=32_alpha=0.0'"
   ]
  },
  {
   "cell_type": "code",
   "execution_count": 57,
   "id": "overall-average",
   "metadata": {},
   "outputs": [],
   "source": [
    "# Cargar modelos\n",
    "modeloArbolDecision = joblib.load(directorioModelos + nombreModeloArbolDecision + extensionModelos)\n",
    "modeloSVM = joblib.load(directorioModelos + nombreModeloSVM + extensionModelos)\n",
    "parametrosRegresionLogistica = np.load(directorioModelos + nombreParametrosRegresionLogistica + extensionModelos + '.npy')"
   ]
  },
  {
   "cell_type": "code",
   "execution_count": 74,
   "id": "handy-scratch",
   "metadata": {},
   "outputs": [],
   "source": [
    "# Funciones auxiliares para modelo de regresión logística\n",
    "def agregarColumnaUnos(x):\n",
    "    if len(x.shape) < 2:\n",
    "        x = np.array(x, dtype=np.float32).reshape(x.shape[0], -1)\n",
    "    return np.append(x, np.ones(x.shape[0]).reshape(-1,1), 1)\n",
    "\n",
    "def calcularSigmoid(x):\n",
    "    return 1/(1 + np.exp(-x))\n",
    "\n",
    "def predecirRegresionLogistica(X, parametros):\n",
    "    X = agregarColumnaUnos(X)\n",
    "    logits = np.matmul(X, parametros)\n",
    "    logits = logits.reshape(logits.shape[0])\n",
    "    return np.round(calcularSigmoid(logits))"
   ]
  },
  {
   "cell_type": "code",
   "execution_count": 8,
   "id": "hungarian-hazard",
   "metadata": {},
   "outputs": [],
   "source": [
    "pruebas = pd.read_csv(\"datos_validacion_temp.csv\")\n",
    "caracteristicas = pruebas.iloc[:,:-1]\n",
    "etiquetas = pruebas.iloc[:,-1]"
   ]
  },
  {
   "cell_type": "code",
   "execution_count": 14,
   "id": "fifth-worse",
   "metadata": {},
   "outputs": [
    {
     "name": "stdout",
     "output_type": "stream",
     "text": [
      "0.8321678321678322\n",
      "0.8095238095238094\n",
      "0.8225806451612904\n",
      "0.796875\n"
     ]
    }
   ],
   "source": [
    "# Revisar métricas de datos de prueba\n",
    "prediccionesArbol = modeloArbolDecision.predict(caracteristicas)\n",
    "print(mts.accuracy_score(etiquetas, prediccionesArbol))\n",
    "print(mts.f1_score(etiquetas, prediccionesArbol))\n",
    "print(mts.precision_score(etiquetas, prediccionesArbol))\n",
    "print(mts.recall_score(etiquetas, prediccionesArbol))"
   ]
  },
  {
   "cell_type": "code",
   "execution_count": 15,
   "id": "complicated-invitation",
   "metadata": {},
   "outputs": [
    {
     "name": "stdout",
     "output_type": "stream",
     "text": [
      "0.8181818181818182\n",
      "0.7936507936507936\n",
      "0.8064516129032258\n",
      "0.78125\n"
     ]
    }
   ],
   "source": [
    "# Revisar métricas de datos de prueba\n",
    "prediccionesSVM = modeloSVM.predict(caracteristicas)\n",
    "print(mts.accuracy_score(etiquetas, prediccionesSVM))\n",
    "print(mts.f1_score(etiquetas, prediccionesSVM))\n",
    "print(mts.precision_score(etiquetas, prediccionesSVM))\n",
    "print(mts.recall_score(etiquetas, prediccionesSVM))"
   ]
  },
  {
   "cell_type": "code",
   "execution_count": 75,
   "id": "aging-coordinator",
   "metadata": {},
   "outputs": [
    {
     "name": "stdout",
     "output_type": "stream",
     "text": [
      "0.8391608391608392\n",
      "0.8130081300813008\n",
      "0.847457627118644\n",
      "0.78125\n"
     ]
    }
   ],
   "source": [
    "# Revisar métricas de datos de prueba\n",
    "prediccionesRegresion = predecirRegresionLogistica(caracteristicas, parametrosRegresionLogistica)\n",
    "print(mts.accuracy_score(etiquetas, prediccionesRegresion))\n",
    "print(mts.f1_score(etiquetas, prediccionesRegresion))\n",
    "print(mts.precision_score(etiquetas, prediccionesRegresion))\n",
    "print(mts.recall_score(etiquetas, prediccionesRegresion))"
   ]
  },
  {
   "cell_type": "markdown",
   "id": "governing-irish",
   "metadata": {},
   "source": [
    "## Función de predicción"
   ]
  },
  {
   "cell_type": "code",
   "execution_count": 78,
   "id": "assured-mayor",
   "metadata": {},
   "outputs": [],
   "source": [
    "# Predicción final combinando los modelos: Árbol de decisión, SVM\n",
    "def prediccionFinal(X):\n",
    "    prediccionesArbolDecision = modeloArbolDecision.predict(X)\n",
    "    prediccionesSVM = modeloSVM.predict(X)\n",
    "    prediccionesRegresionLogistica = predecirRegresionLogistica(X, parametrosRegresionLogistica)\n",
    "    pesoArbolDecision = 0.33\n",
    "    pesoSVM = 0.33\n",
    "    pesoRegresionLogistica = 0.34\n",
    "    prediccionFinal = pesoArbolDecision * prediccionesArbolDecision \\\n",
    "                    + pesoSVM * prediccionesSVM \\\n",
    "                    + pesoRegresionLogistica * prediccionesRegresionLogistica\n",
    "    return np.round(prediccionFinal)"
   ]
  },
  {
   "cell_type": "code",
   "execution_count": 77,
   "id": "worldwide-architect",
   "metadata": {},
   "outputs": [
    {
     "name": "stdout",
     "output_type": "stream",
     "text": [
      "[0. 0. 0. 0. 0. 1. 0. 1. 0. 1. 0. 1. 0. 1. 1. 1. 1. 0. 1. 0. 0. 0. 1. 0.\n",
      " 1. 0. 1. 0. 1. 0. 0. 0. 0. 1. 1. 0. 0. 0. 1. 0. 1. 0. 0. 0. 0. 1. 1. 0.\n",
      " 1. 1. 0. 1. 1. 0. 1. 1. 0. 1. 1. 0. 0. 1. 1. 0. 0. 1. 0. 0. 0. 0. 1. 0.\n",
      " 1. 1. 0. 1. 0. 1. 0. 1. 0. 0. 0. 1. 1. 0. 0. 0. 0. 0. 0. 0. 1. 1. 1. 0.\n",
      " 0. 1. 0. 0. 1. 1. 1. 1. 1. 0. 1. 1. 0. 1. 1. 1. 0. 0. 0. 1. 0. 0. 1. 1.\n",
      " 1. 0. 0. 1. 1. 0. 0. 0. 0. 0. 0. 0. 0. 0. 1. 0. 0. 1. 0. 0. 0. 0. 1.]\n",
      "0.8251748251748252\n",
      "0.8\n",
      "0.819672131147541\n",
      "0.78125\n"
     ]
    }
   ],
   "source": [
    "# Revisar métricas de datos de prueba\n",
    "prediccionesFinales = prediccionFinal(caracteristicas)\n",
    "print(prediccionesFinales)\n",
    "print(mts.accuracy_score(etiquetas, prediccionesFinales))\n",
    "print(mts.f1_score(etiquetas, prediccionesFinales))\n",
    "print(mts.precision_score(etiquetas, prediccionesFinales))\n",
    "print(mts.recall_score(etiquetas, prediccionesFinales))"
   ]
  },
  {
   "cell_type": "markdown",
   "id": "arbitrary-indication",
   "metadata": {},
   "source": [
    "## Predicción árbol de decisión"
   ]
  },
  {
   "cell_type": "markdown",
   "id": "expected-michigan",
   "metadata": {},
   "source": [
    "## Predicción Support Vector Machine (SVM)"
   ]
  },
  {
   "cell_type": "markdown",
   "id": "occasional-briefing",
   "metadata": {},
   "source": [
    "## Predicción Naive Bayes"
   ]
  },
  {
   "cell_type": "markdown",
   "id": "ideal-backing",
   "metadata": {},
   "source": [
    "## Predicción regresión logística"
   ]
  },
  {
   "cell_type": "markdown",
   "id": "threaded-mortgage",
   "metadata": {},
   "source": [
    "## Validación"
   ]
  }
 ],
 "metadata": {
  "kernelspec": {
   "display_name": "Python 3",
   "language": "python",
   "name": "python3"
  },
  "language_info": {
   "codemirror_mode": {
    "name": "ipython",
    "version": 3
   },
   "file_extension": ".py",
   "mimetype": "text/x-python",
   "name": "python",
   "nbconvert_exporter": "python",
   "pygments_lexer": "ipython3",
   "version": "3.8.5"
  }
 },
 "nbformat": 4,
 "nbformat_minor": 5
}
