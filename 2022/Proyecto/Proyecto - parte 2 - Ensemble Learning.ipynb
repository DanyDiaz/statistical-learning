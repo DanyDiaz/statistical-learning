{
 "cells": [
  {
   "cell_type": "markdown",
   "id": "canadian-middle",
   "metadata": {},
   "source": [
    "# Proyecto Final - Ensemble Learning (Aprendizaje por ensamblado)\n",
    "## Parte 2 - Implementación y predicción\n",
    "\n",
    "**Curso:** Statistical Learning\n",
    "\n",
    "**Catedrático:** Ing. Luis Leal\n",
    "\n",
    "**Estudiante:** Dany Rafael Díaz Lux (21000864)\n",
    "\n",
    "**Objetivo:** Hacer clasificación binaria para determinar si una persona sobrevive o no del hundimiento del Titanic."
   ]
  },
  {
   "cell_type": "code",
   "execution_count": 22,
   "id": "hazardous-plain",
   "metadata": {},
   "outputs": [],
   "source": [
    "# Import required libraries\n",
    "#from sklearn.model_selection import train_test_split\n",
    "from sklearn.tree import DecisionTreeClassifier\n",
    "#import datetime as dt\n",
    "import joblib\n",
    "#import matplotlib.pylab as plt\n",
    "import numpy as np \n",
    "#import os.path\n",
    "import pandas as pd\n",
    "import sklearn.metrics as mts\n",
    "#import tensorflow as tf\n",
    "#print('Tensor flow version: ' + tf.__version__)"
   ]
  },
  {
   "cell_type": "code",
   "execution_count": 11,
   "id": "postal-today",
   "metadata": {},
   "outputs": [],
   "source": [
    "# Informacion de modelos\n",
    "directorioModelos = 'modelos/'\n",
    "extensionModelos = '.modelo'\n",
    "nombreModeloArbolDecision = 'ArbolDecision_criterio=gini_profundidadMaxima=4'\n",
    "nombreModeloSVM = 'SVM_regularizacionC=1.0_kernel=poly_grado=3'"
   ]
  },
  {
   "cell_type": "code",
   "execution_count": 12,
   "id": "mediterranean-syracuse",
   "metadata": {},
   "outputs": [],
   "source": [
    "# Cargar modelos\n",
    "modeloArbolDecision = joblib.load(directorioModelos + nombreModeloArbolDecision + extensionModelos)\n",
    "modeloSVM = joblib.load(directorioModelos + nombreModeloSVM + extensionModelos)"
   ]
  },
  {
   "cell_type": "code",
   "execution_count": 8,
   "id": "located-traffic",
   "metadata": {},
   "outputs": [],
   "source": [
    "pruebas = pd.read_csv(\"datos_validacion_temp.csv\")\n",
    "caracteristicas = pruebas.iloc[:,:-1]\n",
    "etiquetas = pruebas.iloc[:,-1]"
   ]
  },
  {
   "cell_type": "code",
   "execution_count": 14,
   "id": "suffering-methodology",
   "metadata": {},
   "outputs": [
    {
     "name": "stdout",
     "output_type": "stream",
     "text": [
      "0.8321678321678322\n",
      "0.8095238095238094\n",
      "0.8225806451612904\n",
      "0.796875\n"
     ]
    }
   ],
   "source": [
    "# Revisar métricas de datos de prueba\n",
    "prediccionesArbol = modeloArbolDecision.predict(caracteristicas)\n",
    "print(mts.accuracy_score(etiquetas, prediccionesArbol))\n",
    "print(mts.f1_score(etiquetas, prediccionesArbol))\n",
    "print(mts.precision_score(etiquetas, prediccionesArbol))\n",
    "print(mts.recall_score(etiquetas, prediccionesArbol))"
   ]
  },
  {
   "cell_type": "code",
   "execution_count": 15,
   "id": "south-triumph",
   "metadata": {},
   "outputs": [
    {
     "name": "stdout",
     "output_type": "stream",
     "text": [
      "0.8181818181818182\n",
      "0.7936507936507936\n",
      "0.8064516129032258\n",
      "0.78125\n"
     ]
    }
   ],
   "source": [
    "# Revisar métricas de datos de prueba\n",
    "prediccionesSVM = modeloSVM.predict(caracteristicas)\n",
    "print(mts.accuracy_score(etiquetas, prediccionesSVM))\n",
    "print(mts.f1_score(etiquetas, prediccionesSVM))\n",
    "print(mts.precision_score(etiquetas, prediccionesSVM))\n",
    "print(mts.recall_score(etiquetas, prediccionesSVM))"
   ]
  },
  {
   "cell_type": "markdown",
   "id": "falling-momentum",
   "metadata": {},
   "source": [
    "## Función de predicción"
   ]
  },
  {
   "cell_type": "code",
   "execution_count": 46,
   "id": "graduate-turkish",
   "metadata": {},
   "outputs": [],
   "source": [
    "# Predicción final combinando los modelos: Árbol de decisión, SVM\n",
    "def prediccionFinal(X):\n",
    "    prediccionesArbolDecision = modeloArbolDecision.predict(X)\n",
    "    prediccionesSVM = modeloSVM.predict(X)\n",
    "    pesoArbolDecision = 0.6\n",
    "    pesoSVM = 0.4\n",
    "    prediccionFinal = pesoArbolDecision * prediccionesArbolDecision + pesoSVM * prediccionesSVM\n",
    "    return np.round(prediccionFinal)"
   ]
  },
  {
   "cell_type": "code",
   "execution_count": 47,
   "id": "graduate-dining",
   "metadata": {},
   "outputs": [
    {
     "name": "stdout",
     "output_type": "stream",
     "text": [
      "[0. 0. 0. 0. 0. 1. 0. 1. 0. 1. 0. 1. 0. 1. 1. 1. 1. 0. 1. 0. 0. 0. 1. 0.\n",
      " 1. 0. 1. 0. 1. 0. 1. 0. 0. 1. 1. 0. 0. 0. 1. 0. 1. 0. 0. 0. 0. 1. 1. 0.\n",
      " 1. 1. 0. 1. 0. 0. 1. 1. 0. 1. 1. 0. 0. 1. 1. 0. 0. 1. 0. 0. 0. 0. 1. 0.\n",
      " 1. 1. 0. 1. 0. 1. 0. 0. 0. 0. 0. 1. 1. 0. 0. 0. 0. 0. 0. 0. 1. 1. 1. 1.\n",
      " 0. 1. 0. 0. 1. 1. 1. 1. 1. 0. 1. 1. 0. 1. 1. 1. 0. 0. 0. 1. 0. 0. 1. 1.\n",
      " 1. 0. 0. 1. 1. 0. 0. 0. 0. 0. 0. 0. 0. 0. 1. 0. 0. 1. 0. 0. 0. 1. 1.]\n",
      "0.8321678321678322\n",
      "0.8095238095238094\n",
      "0.8225806451612904\n",
      "0.796875\n"
     ]
    }
   ],
   "source": [
    "# Revisar métricas de datos de prueba\n",
    "prediccionesFinales = prediccionFinal(caracteristicas)\n",
    "print(prediccionesFinales)\n",
    "print(mts.accuracy_score(etiquetas, prediccionesFinales))\n",
    "print(mts.f1_score(etiquetas, prediccionesFinales))\n",
    "print(mts.precision_score(etiquetas, prediccionesFinales))\n",
    "print(mts.recall_score(etiquetas, prediccionesFinales))"
   ]
  },
  {
   "cell_type": "markdown",
   "id": "incomplete-irish",
   "metadata": {},
   "source": [
    "## Predicción árbol de decisión"
   ]
  },
  {
   "cell_type": "markdown",
   "id": "synthetic-contrast",
   "metadata": {},
   "source": [
    "## Predicción Support Vector Machine (SVM)"
   ]
  },
  {
   "cell_type": "markdown",
   "id": "united-burning",
   "metadata": {},
   "source": [
    "## Predicción Naive Bayes"
   ]
  },
  {
   "cell_type": "markdown",
   "id": "incorporate-april",
   "metadata": {},
   "source": [
    "## Predicción regresión logística"
   ]
  },
  {
   "cell_type": "markdown",
   "id": "following-miracle",
   "metadata": {},
   "source": [
    "## Validación"
   ]
  }
 ],
 "metadata": {
  "kernelspec": {
   "display_name": "Python 3",
   "language": "python",
   "name": "python3"
  },
  "language_info": {
   "codemirror_mode": {
    "name": "ipython",
    "version": 3
   },
   "file_extension": ".py",
   "mimetype": "text/x-python",
   "name": "python",
   "nbconvert_exporter": "python",
   "pygments_lexer": "ipython3",
   "version": "3.8.5"
  }
 },
 "nbformat": 4,
 "nbformat_minor": 5
}
