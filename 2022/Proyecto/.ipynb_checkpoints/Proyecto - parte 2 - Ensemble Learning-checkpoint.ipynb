{
 "cells": [
  {
   "cell_type": "markdown",
   "id": "accessible-argument",
   "metadata": {},
   "source": [
    "# Proyecto Final - Ensemble Learning (Aprendizaje por ensamblado)\n",
    "## Parte 2 - Implementación y predicción\n",
    "\n",
    "**Curso:** Statistical Learning\n",
    "\n",
    "**Catedrático:** Ing. Luis Leal\n",
    "\n",
    "**Estudiante:** Dany Rafael Díaz Lux (21000864)\n",
    "\n",
    "**Objetivo:** Hacer clasificación binaria para determinar si una persona sobrevive o no del hundimiento del Titanic."
   ]
  },
  {
   "cell_type": "code",
   "execution_count": 1,
   "id": "congressional-disease",
   "metadata": {},
   "outputs": [],
   "source": [
    "# Import required libraries\n",
    "#from sklearn.model_selection import train_test_split\n",
    "from sklearn.tree import DecisionTreeClassifier\n",
    "#import datetime as dt\n",
    "import joblib\n",
    "#import matplotlib.pylab as plt\n",
    "#import numpy as np \n",
    "#import os.path\n",
    "import pandas as pd\n",
    "import sklearn.metrics as mts\n",
    "#import tensorflow as tf\n",
    "#print('Tensor flow version: ' + tf.__version__)"
   ]
  },
  {
   "cell_type": "code",
   "execution_count": 4,
   "id": "liquid-constitutional",
   "metadata": {},
   "outputs": [],
   "source": [
    "# Informacion de modelos\n",
    "directorioModelos = 'modelos/'\n",
    "extensionModelos = '.modelo'\n",
    "nombreModeloArbolDecision = 'ArbolDecision_criterio=gini_profundidadMaxima=4'"
   ]
  },
  {
   "cell_type": "code",
   "execution_count": 5,
   "id": "inappropriate-ozone",
   "metadata": {},
   "outputs": [],
   "source": [
    "# Cargar modelos\n",
    "modeloArbolDecision = joblib.load(directorioModelos + nombreModeloArbolDecision + extensionModelos)"
   ]
  },
  {
   "cell_type": "code",
   "execution_count": 8,
   "id": "opening-heritage",
   "metadata": {},
   "outputs": [],
   "source": [
    "pruebas = pd.read_csv(\"datos_validacion_temp.csv\")\n",
    "caracteristicas = pruebas.iloc[:,:-1]\n",
    "etiquetas = pruebas.iloc[:,-1]"
   ]
  },
  {
   "cell_type": "code",
   "execution_count": 10,
   "id": "developmental-tampa",
   "metadata": {},
   "outputs": [
    {
     "name": "stdout",
     "output_type": "stream",
     "text": [
      "0.8321678321678322\n",
      "0.8095238095238094\n",
      "0.8225806451612904\n",
      "0.796875\n"
     ]
    }
   ],
   "source": [
    "# Revisar métricas de datos de prueba\n",
    "predicciones = modeloArbolDecision.predict(caracteristicas)\n",
    "print(mts.accuracy_score(etiquetas, predicciones))\n",
    "print(mts.f1_score(etiquetas, predicciones))\n",
    "print(mts.precision_score(etiquetas, predicciones))\n",
    "print(mts.recall_score(etiquetas, predicciones))"
   ]
  },
  {
   "cell_type": "markdown",
   "id": "explicit-property",
   "metadata": {},
   "source": [
    "## Función de predicción"
   ]
  },
  {
   "cell_type": "markdown",
   "id": "tired-living",
   "metadata": {},
   "source": [
    "## Predicción árbol de decisión"
   ]
  },
  {
   "cell_type": "markdown",
   "id": "gross-edmonton",
   "metadata": {},
   "source": [
    "## Predicción Support Vector Machine (SVM)"
   ]
  },
  {
   "cell_type": "markdown",
   "id": "preceding-relaxation",
   "metadata": {},
   "source": [
    "## Predicción Naive Bayes"
   ]
  },
  {
   "cell_type": "markdown",
   "id": "mysterious-royalty",
   "metadata": {},
   "source": [
    "## Predicción regresión logística"
   ]
  },
  {
   "cell_type": "markdown",
   "id": "above-comparison",
   "metadata": {},
   "source": [
    "## Validación"
   ]
  }
 ],
 "metadata": {
  "kernelspec": {
   "display_name": "Python 3",
   "language": "python",
   "name": "python3"
  },
  "language_info": {
   "codemirror_mode": {
    "name": "ipython",
    "version": 3
   },
   "file_extension": ".py",
   "mimetype": "text/x-python",
   "name": "python",
   "nbconvert_exporter": "python",
   "pygments_lexer": "ipython3",
   "version": "3.8.5"
  }
 },
 "nbformat": 4,
 "nbformat_minor": 5
}
